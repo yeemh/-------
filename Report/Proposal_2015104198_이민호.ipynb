{
 "cells": [
  {
   "cell_type": "markdown",
   "metadata": {},
   "source": [
    "# Term project proposal"
   ]
  },
  {
   "cell_type": "markdown",
   "metadata": {},
   "source": [
    "# 수원, 용인 지역화폐 가맹점  분석\n",
    "\n",
    "# 1. 프로젝트 목표 및 내용\n",
    "\n",
    " 용인시와 수원시의 지역 화폐 가맹점 현황을 모두 받아와 원하는 시군의 가맹점 리스트를 보여주고 업종별로도 선택하여 볼 수 있게 한다. 상호를 입력하였을 시 용인과 수원 중 어느 지역의 지역 화폐가 사용 가능한지를 확인하는 기능도 추가한다. 상호명이 겹치는 경우나 그 이외의 바로 특정할 수 없는 상황에 대한 확인 방법으로 위치 좌표를 받아와 제일 근방에 있는 경우를 출력하도록 한다. 이에 대한 구현이 어려울 경우 전화번호를 이용하는 방법 또는 그 이외의 방법을 이용하여 구하도록 한다.\n",
    "\n",
    "\n",
    "# 2. 주제 선정 이유\n",
    "\n",
    " 현재 코로나 사태로 인하여 경기도에서 경기도민들에게 경기도 재난 기본소득을 지급하였다. 경희대학교 국제캠퍼스 또한 경기도에 위치하여 있고 그로 인해 학교 근처에 거주하고 있는 주소지를 옮긴 학생들도 그 혜택을 받을 수 있게 되었다. 그런데 재난 기본소득은 주민등록상 거주지를 기준으로만 사용할 수 있고 학교의 위치 특성상 횡단보도 하나를 기준으로 용인시와 수원시로 바뀌게 되어 어느 지역의 지역 화폐가 사용 가능한지에 혼동이 올 수 있다. 현재 이를 확인하기 위한 방법으로 경기도에서 제공하는 웹페이지가 있지만 많은 사람이 접속하는 상황 속에서 서버가 다운되거나 느려지는 경우가 잦아 용인과 수원시에 한해서만 가맹점 정보를 받아와 빠르게 확인할 수 있도록 정보를 제공하고자 한다.\n",
    "\n",
    "\n",
    "# 3. 데이터 획득\n",
    "\n",
    "1. 경기데이터드림 - 지역화폐 가맹점 현황\n",
    " 시군코드를 기준으로 가맹점 리스트를 받아오고 상호명과 위도 경도를 이용하여 현재 위치와 가장 가까운 가맹점과 사용 가능한 지역 화폐 명을 찾아온다.\n",
    "2. Google Cloud Platform - Geolocation API\n",
    " 현재 위치에 대한 정보를 받아온다.\n",
    "\n",
    " \n",
    "# 4. 데이터의 가공\n",
    "\n",
    " 받아온 API에서는 XML 형태로 제공이 된다. 이 XML에서 받아온 데이터 중 시군코드를 이용하여 용인시와 수원시의 데이터만 받아올 계획이다. 또한, 이 중 상호명, 업종코드, 업종명(종목명), 사용 가능한 지역화폐, 위도, 경도를 이용하고 만약 위치를 이용한 방법이 안 된다면 전화번호를 이용하여 요구하는 가맹점을 찾아내도록 한다.\n",
    "\n",
    "\n",
    "# 5. 참고문헌\n",
    "\n",
    "1. 경기데이터드림: https://data.gg.go.kr/portal/data/service/selectServicePage.do?infId=3NPA52LBMO36CQEQ1GMY28894927&infSeq=1 (지역화폐 가맹점 현황)\n",
    "2. Geolocation API: https://developers.google.com/maps/documentation/geolocation/intro?utm_source=google&utm_medium=cpc&utm_campaign=FY18-Q2-global-demandgen-paidsearchonnetworkhouseads-cs-maps_contactsal_saf&utm_content=text-ad-none-none-DEV_c-CRE_396485512938-ADGP_Hybrid+%7C+AW+SEM+%7C+BKWS+~+Places+%7C+EXA+%7C+Google+Maps+Geolocation+API-KWID_43700049561316526-kwd-300650646226-userloc_1009877&utm_term=KW_google%20geolocation%20api-ST_google+geolocation+api&gclid=EAIaIQobChMIrPytw42h6QIVhmkqCh10EQXNEAAYASAAEgIMnfD_BwE#introduction (Geolocation API-Developer Guide)\n",
    "3. https://velog.io/@yvvyoon/python-current-location-coordinate (Python - 현재 위치 좌표 알아내기)\n",
    "4. 지역화폐 가맹점 현황_오픈API명세서.xls\n",
    "\n",
    "\n",
    "# 6. 결론\n",
    "\n",
    " 수원시와 용인시의 가맹점 리스트, 업종명을 통한 분류된 리스트, 상호명 입력받을 경우 현재 위치를 통한 어느 지역 지역 화폐 사용 가능한 지에 대한 정보를 출력하는 프로그램이 완성되어야한다.\n",
    " \n",
    " \n",
    "# 7. 프로젝트 계획\n",
    "\n",
    "5월 11일 ~ 5월 18일: 데이터 획득 및 XML 분석<br>\n",
    "5월 19일 ~ 5월 26일: XML 정보 파싱<br>\n",
    "5월 27일 ~ 6월 12일: 리스트 출력 및 현재 위치와 가맹점 위치 매칭 구현<br>\n",
    "6월 13일 ~ 6월 18일: 예외처리 및 디버깅"
   ]
  }
 ],
 "metadata": {
  "kernelspec": {
   "display_name": "Python 3",
   "language": "python",
   "name": "python3"
  },
  "language_info": {
   "codemirror_mode": {
    "name": "ipython",
    "version": 3
   },
   "file_extension": ".py",
   "mimetype": "text/x-python",
   "name": "python",
   "nbconvert_exporter": "python",
   "pygments_lexer": "ipython3",
   "version": "3.7.6"
  }
 },
 "nbformat": 4,
 "nbformat_minor": 4
}
